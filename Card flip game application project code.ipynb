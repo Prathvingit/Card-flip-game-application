{
 "cells": [
  {
   "cell_type": "markdown",
   "id": "3f2f53a4",
   "metadata": {},
   "source": [
    "# Card Flip Game Application project code"
   ]
  },
  {
   "cell_type": "markdown",
   "id": "b31f473f",
   "metadata": {},
   "source": [
    "### 1)Create XML code"
   ]
  },
  {
   "cell_type": "code",
   "execution_count": null,
   "id": "fefdce78",
   "metadata": {},
   "outputs": [],
   "source": [
    "‹?xml version=\"1.0\" encoding=\"utf-8\"?>\n",
    "<LinearLayout xmIns:android=\"http://schemas.android.com/apk/res/android\"\n",
    "    xmIns:app=\"http://schemas.android.com/apk/res-auto\"\n",
    "    xmIns: tools= \"http://schemas.android.com/tools\"\n",
    "    android: layout _width=\"match parent\" android: layout_height=\"match parent\"\n",
    "    android:padding=\"10dp\"\n",
    "    android:background=\"#eOaaff\"\n",
    "    android: orientation=\"vertical\"\n",
    "    tools: context=\".loginactivity\">\n",
    "<Text View\n",
    "    android: layout width=\"match parent\" android: layout height=\"wrap_content\"\n",
    "    android:text=\"Sign In\"\n",
    "    android:textColor=\"#240046\"\n",
    "    android:textSize=\"50dp\"\n",
    "    android:textStyle=\"bold\"\n",
    "    android: layout_margin=\"48dp\"\n",
    "    android:layout_marginBottom=\"50dp\"/>\n",
    "<EditText\n",
    "    android:layout_width=\"match_ parent\"\n",
    "    android layout _height=\"50dp\" android:id=\"@+id/usernamel\"\n",
    "    android:hint=\"Username\"\n",
    "    android:textSize=\"25dp\"\n",
    "    android:textColorHint=\"#240046\"\n",
    "    android:background=\"@drawable/edittextbackground\"\n",
    "    android: layout_marginBottom=\"30dp\"\n",
    "    android:paddingLeft=\"20dp\"/>\n",
    "<EditText\n",
    "    android: layout_ width=\"match_parent\"\n",
    "    android: layout\n",
    "    height=\"50dp\"\n",
    "    android:id=\"@+id/password1\"\n",
    "    android:hint=\"Password\"\n",
    "    android:textSize=\"25dp\"\n",
    "    android:textColorHint=\"#240046\"\n",
    "    android:background=\"@drawable/edittextbackground\"\n",
    "    android: layout_ marginBottom=\"30dp\" android:paddingLeft=\"20dp\"/>\n",
    "<Button\n",
    "    android: layout _width=\"match_parent\"\n",
    "    android: layout _height=\"60dp\"\n",
    "    android:id=\"@tid/sigin!\" android:text-\"Login\"\n",
    "    android:textSize=\"20dp\"\n",
    "    android:backgroundTint=\"#100026\"\n",
    "    android: layout_marginBottom=\"30dp\"/>\n",
    "</LinearLayout>\n"
   ]
  },
  {
   "cell_type": "markdown",
   "id": "e885a9fc",
   "metadata": {},
   "source": [
    "### 2)Create Java code"
   ]
  },
  {
   "cell_type": "code",
   "execution_count": null,
   "id": "2f8107f4",
   "metadata": {},
   "outputs": [],
   "source": [
    "package com.example.game;\n",
    "import android.appcompat.app.AppCompatActivity;\n",
    "import android.content.Intent;\n",
    "import android.os.Bundle;\n",
    "import android.text.TextUtils;\n",
    "import android.view.View;\n",
    "import android. widget.Button;\n",
    "import android.widget. EditText;\n",
    "import android. widget. Toast;\n",
    "public class loginactivity extends AppCompatActivity {\n",
    "    EditText username,password;\n",
    "    Button signin;\n",
    "    DBHelper DB;\n",
    "@Override\n",
    "protected void onCreate(Bundle savedinstanceState) {\n",
    "    super.onCreate(savedinstanceState);\n",
    "    setContent View(R. layout.activity_loginactivity); \n",
    "    username-find ViewByld(R.id.usernamel);\n",
    "    password-find ViewByld(R.id.password1); \n",
    "    signin-find ViewByld(R.id.siginl);\n",
    "    DB= new DBHelper(this);\n",
    "    signin.setOnClickListener(new View.OnClickListener() {\n",
    "@Override\n",
    "public void onClick(View view) {\n",
    "    String user-username.getText().toString();\n",
    "    String pass-password.getText().toString();\n",
    "    if(TextUtils.isEmpty(user) || TextUtils.isEmpty(pass))\n",
    "        Toast.make Text(loginactivity this, \"All fields Required\",\n",
    "        Toast. LENGTH_SHORT).show();\n",
    "    else {\n",
    "        Boolean checkuserpass=DB.checkusernamepassword(user,pass);\n",
    "        if(checkuserpass=true){\n",
    "            Toast.makeText(loginactivity.this, \"Login Successful\",\n",
    "        Toast. LENGTH_SHORT).show();\n",
    "            Intent intent-new Intent(loginactivity.this,gameactivity.class);\n",
    "            startActivity(intent);\n",
    "        }\n",
    "    else {\n",
    "        Toast.make Text(loginactivity this, \"Login Failed\",\n",
    "Toast. LENGTH_SHORT).show;\n",
    "                 }\n",
    "              }  \n",
    "            }\n",
    "        });\n",
    "    }\n",
    "}"
   ]
  }
 ],
 "metadata": {
  "kernelspec": {
   "display_name": "Python 3 (ipykernel)",
   "language": "python",
   "name": "python3"
  },
  "language_info": {
   "codemirror_mode": {
    "name": "ipython",
    "version": 3
   },
   "file_extension": ".py",
   "mimetype": "text/x-python",
   "name": "python",
   "nbconvert_exporter": "python",
   "pygments_lexer": "ipython3",
   "version": "3.11.4"
  }
 },
 "nbformat": 4,
 "nbformat_minor": 5
}
